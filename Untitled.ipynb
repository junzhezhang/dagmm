{
 "cells": [
  {
   "cell_type": "code",
   "execution_count": 18,
   "metadata": {},
   "outputs": [],
   "source": [
    "import numpy as np \n",
    "import pandas as pd\n",
    "from sklearn.preprocessing import minmax_scale"
   ]
  },
  {
   "cell_type": "code",
   "execution_count": 84,
   "metadata": {},
   "outputs": [],
   "source": [
    "def load_data_v2(file_path, cols=None, scale = (0,1)):\n",
    "    \"\"\"\n",
    "    scalce can chose from (0,1) and (-1,1) for numerical cols. \n",
    "    dagmm is using (0,1) normalization\n",
    "    in v2, data contains labels. \n",
    "    \n",
    "    \"\"\"\n",
    "    COL_NAMES = [\"duration\", \"protocol_type\", \"service\", \"flag\", \"src_bytes\",\n",
    "                \"dst_bytes\", \"land\", \"wrong_fragment\", \"urgent\", \"hot\", \"num_failed_logins\",\n",
    "                \"logged_in\", \"num_compromised\", \"root_shell\", \"su_attempted\", \"num_root\",\n",
    "                \"num_file_creations\", \"num_shells\", \"num_access_files\", \"num_outbound_cmds\",\n",
    "                \"is_host_login\", \"is_guest_login\", \"count\", \"srv_count\", \"serror_rate\",\n",
    "                \"srv_serror_rate\", \"rerror_rate\", \"srv_rerror_rate\", \"same_srv_rate\",\n",
    "                \"diff_srv_rate\", \"srv_diff_host_rate\", \"dst_host_count\", \"dst_host_srv_count\",\n",
    "                \"dst_host_same_srv_rate\", \"dst_host_diff_srv_rate\", \"dst_host_same_src_port_rate\",\n",
    "                \"dst_host_srv_diff_host_rate\", \"dst_host_serror_rate\", \"dst_host_srv_serror_rate\",\n",
    "                \"dst_host_rerror_rate\", \"dst_host_srv_rerror_rate\", \"labels\"]\n",
    "\n",
    "    data = pd.read_csv(file_path, names=COL_NAMES, index_col=False)\n",
    "    # Shuffle data\n",
    "    data = data.sample(frac=1).reset_index(drop=True)\n",
    "    NOM_IND = [1, 2, 3]\n",
    "    BIN_IND = [6, 11, 13, 14, 20, 21]\n",
    "    # Need to find the numerical columns for normalization\n",
    "    NUM_IND = list(set(range(40)).difference(NOM_IND).difference(BIN_IND))\n",
    "\n",
    "    # Scale all numerical data to [0-1]\n",
    "    data.iloc[:, NUM_IND] = minmax_scale(data.iloc[:, NUM_IND],feature_range=scale)\n",
    "    labels = data['labels']\n",
    "    data.loc[data[\"labels\"] != \"normal\", 'labels'] = 0\n",
    "    data.loc[data[\"labels\"] == \"normal\", 'labels'] = 1\n",
    "    # Binary labeling\n",
    "#     del data['labels']\n",
    "    data = pd.get_dummies(data)\n",
    "    sorted_cols = list(set(data.columns) - set(['labels']))+['labels']\n",
    "    if cols is None:\n",
    "        cols = sorted_cols\n",
    "        data = data[cols]\n",
    "#         cols = data.columns\n",
    "    else:\n",
    "        map_data = pd.DataFrame(columns=cols)\n",
    "        map_data = map_data.append(data)\n",
    "        data = map_data.fillna(0)\n",
    "        data = data[cols]\n",
    "\n",
    "    return [data, cols]"
   ]
  },
  {
   "cell_type": "code",
   "execution_count": 86,
   "metadata": {},
   "outputs": [
    {
     "name": "stdout",
     "output_type": "stream",
     "text": [
      "1    67343\n",
      "0    58630\n",
      "Name: labels, dtype: int64\n",
      "Anomaly Percentage in train: 0.5345828074269883\n"
     ]
    }
   ],
   "source": [
    "proportions = data[\"labels\"].value_counts()\n",
    "print(proportions)\n",
    "print(\"Anomaly Percentage in train:\",proportions[1] / proportions.sum())"
   ]
  },
  {
   "cell_type": "code",
   "execution_count": 87,
   "metadata": {},
   "outputs": [
    {
     "name": "stderr",
     "output_type": "stream",
     "text": [
      "/Library/Frameworks/Python.framework/Versions/3.6/lib/python3.6/site-packages/ipykernel_launcher.py:1: FutureWarning: Method .as_matrix will be removed in a future version. Use .values instead.\n",
      "  \"\"\"Entry point for launching an IPython kernel.\n"
     ]
    }
   ],
   "source": [
    "np.savez_compressed(\"nsl_kdd_train\",nsl_kdd=data.as_matrix())"
   ]
  },
  {
   "cell_type": "code",
   "execution_count": null,
   "metadata": {},
   "outputs": [],
   "source": []
  },
  {
   "cell_type": "code",
   "execution_count": null,
   "metadata": {},
   "outputs": [],
   "source": []
  },
  {
   "cell_type": "code",
   "execution_count": null,
   "metadata": {},
   "outputs": [],
   "source": []
  }
 ],
 "metadata": {
  "kernelspec": {
   "display_name": "Python 3",
   "language": "python",
   "name": "python3"
  },
  "language_info": {
   "codemirror_mode": {
    "name": "ipython",
    "version": 3
   },
   "file_extension": ".py",
   "mimetype": "text/x-python",
   "name": "python",
   "nbconvert_exporter": "python",
   "pygments_lexer": "ipython3",
   "version": "3.6.0"
  }
 },
 "nbformat": 4,
 "nbformat_minor": 2
}
